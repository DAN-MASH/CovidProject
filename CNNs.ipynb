{
  "nbformat": 4,
  "nbformat_minor": 0,
  "metadata": {
    "colab": {
      "provenance": [],
      "authorship_tag": "ABX9TyN07m6+dPvu+peeYt4ePMEQ",
      "include_colab_link": true
    },
    "kernelspec": {
      "name": "python3",
      "display_name": "Python 3"
    },
    "language_info": {
      "name": "python"
    }
  },
  "cells": [
    {
      "cell_type": "markdown",
      "metadata": {
        "id": "view-in-github",
        "colab_type": "text"
      },
      "source": [
        "<a href=\"https://colab.research.google.com/github/DAN-MASH/CovidProject/blob/main/CNNs.ipynb\" target=\"_parent\"><img src=\"https://colab.research.google.com/assets/colab-badge.svg\" alt=\"Open In Colab\"/></a>"
      ]
    },
    {
      "cell_type": "code",
      "execution_count": 70,
      "metadata": {
        "id": "lNfSw8Zdt0tN"
      },
      "outputs": [],
      "source": [
        "import pandas as pd\n",
        "import numpy as np\n",
        "import seaborn as sns"
      ]
    },
    {
      "cell_type": "code",
      "source": [
        "import keras"
      ],
      "metadata": {
        "id": "_eqvitwruapI"
      },
      "execution_count": 71,
      "outputs": []
    },
    {
      "cell_type": "code",
      "source": [
        "from keras.models import Sequential\n",
        "from keras.layers import Dense\n",
        "from keras.utils import to_categorical"
      ],
      "metadata": {
        "id": "n2VqZ-lNuCNH"
      },
      "execution_count": 72,
      "outputs": []
    },
    {
      "cell_type": "code",
      "source": [
        "#When working with convolutional neural networks (CNNs), we will need the following packages\n",
        "from keras.layers import Conv2D #to add convolutional layers/filters\n",
        "from keras.layers import MaxPooling2D #to addd pooling layers\n",
        "from keras.layers import Flatten #to flatten the data so that it can proceed to the fully connected layers"
      ],
      "metadata": {
        "id": "ZWBbjf0NuRRV"
      },
      "execution_count": 73,
      "outputs": []
    },
    {
      "cell_type": "code",
      "source": [
        "from keras.datasets import mnist"
      ],
      "metadata": {
        "id": "hOivXeb3ut-R"
      },
      "execution_count": 74,
      "outputs": []
    },
    {
      "cell_type": "code",
      "source": [
        "mnist = mnist.load_data"
      ],
      "metadata": {
        "id": "4zvC_KPhvPDh"
      },
      "execution_count": 75,
      "outputs": []
    },
    {
      "cell_type": "code",
      "source": [
        "mnist"
      ],
      "metadata": {
        "colab": {
          "base_uri": "https://localhost:8080/",
          "height": 187
        },
        "id": "yL4W6a0ZwLeZ",
        "outputId": "b1d8462d-2f1f-4cdc-f14c-49cd593174db"
      },
      "execution_count": 76,
      "outputs": [
        {
          "output_type": "execute_result",
          "data": {
            "text/plain": [
              "<function keras.src.datasets.mnist.load_data(path='mnist.npz')>"
            ],
            "text/html": [
              "<div style=\"max-width:800px; border: 1px solid var(--colab-border-color);\"><style>\n",
              "      pre.function-repr-contents {\n",
              "        overflow-x: auto;\n",
              "        padding: 8px 12px;\n",
              "        max-height: 500px;\n",
              "      }\n",
              "\n",
              "      pre.function-repr-contents.function-repr-contents-collapsed {\n",
              "        cursor: pointer;\n",
              "        max-height: 100px;\n",
              "      }\n",
              "    </style>\n",
              "    <pre style=\"white-space: initial; background:\n",
              "         var(--colab-secondary-surface-color); padding: 8px 12px;\n",
              "         border-bottom: 1px solid var(--colab-border-color);\"><b>keras.src.datasets.mnist.load_data</b><br/>def load_data(path=&#x27;mnist.npz&#x27;)</pre><pre class=\"function-repr-contents function-repr-contents-collapsed\" style=\"\"><a class=\"filepath\" style=\"display:none\" href=\"#\">/usr/local/lib/python3.10/dist-packages/keras/src/datasets/mnist.py</a>Loads the MNIST dataset.\n",
              "\n",
              "This is a dataset of 60,000 28x28 grayscale images of the 10 digits,\n",
              "along with a test set of 10,000 images.\n",
              "More info can be found at the\n",
              "[MNIST homepage](http://yann.lecun.com/exdb/mnist/).\n",
              "\n",
              "Args:\n",
              "  path: path where to cache the dataset locally\n",
              "    (relative to `~/.keras/datasets`).\n",
              "\n",
              "Returns:\n",
              "  Tuple of NumPy arrays: `(x_train, y_train), (x_test, y_test)`.\n",
              "\n",
              "**x_train**: uint8 NumPy array of grayscale image data with shapes\n",
              "  `(60000, 28, 28)`, containing the training data. Pixel values range\n",
              "  from 0 to 255.\n",
              "\n",
              "**y_train**: uint8 NumPy array of digit labels (integers in range 0-9)\n",
              "  with shape `(60000,)` for the training data.\n",
              "\n",
              "**x_test**: uint8 NumPy array of grayscale image data with shapes\n",
              "  (10000, 28, 28), containing the test data. Pixel values range\n",
              "  from 0 to 255.\n",
              "\n",
              "**y_test**: uint8 NumPy array of digit labels (integers in range 0-9)\n",
              "  with shape `(10000,)` for the test data.\n",
              "\n",
              "Example:\n",
              "\n",
              "```python\n",
              "(x_train, y_train), (x_test, y_test) = keras.datasets.mnist.load_data()\n",
              "assert x_train.shape == (60000, 28, 28)\n",
              "assert x_test.shape == (10000, 28, 28)\n",
              "assert y_train.shape == (60000,)\n",
              "assert y_test.shape == (10000,)\n",
              "```\n",
              "\n",
              "License:\n",
              "  Yann LeCun and Corinna Cortes hold the copyright of MNIST dataset,\n",
              "  which is a derivative work from original NIST datasets.\n",
              "  MNIST dataset is made available under the terms of the\n",
              "  [Creative Commons Attribution-Share Alike 3.0 license.](\n",
              "  https://creativecommons.org/licenses/by-sa/3.0/)</pre>\n",
              "      <script>\n",
              "      if (google.colab.kernel.accessAllowed && google.colab.files && google.colab.files.view) {\n",
              "        for (const element of document.querySelectorAll('.filepath')) {\n",
              "          element.style.display = 'block'\n",
              "          element.onclick = (event) => {\n",
              "            event.preventDefault();\n",
              "            event.stopPropagation();\n",
              "            google.colab.files.view(element.textContent, 25);\n",
              "          };\n",
              "        }\n",
              "      }\n",
              "      for (const element of document.querySelectorAll('.function-repr-contents')) {\n",
              "        element.onclick = (event) => {\n",
              "          event.preventDefault();\n",
              "          event.stopPropagation();\n",
              "          element.classList.toggle('function-repr-contents-collapsed');\n",
              "        };\n",
              "      }\n",
              "      </script>\n",
              "      </div>"
            ]
          },
          "metadata": {},
          "execution_count": 76
        }
      ]
    },
    {
      "cell_type": "code",
      "source": [
        "(X_train, y_train), (X_test, y_test) = keras.datasets.mnist.load_data()"
      ],
      "metadata": {
        "id": "koEWFQVBwW41"
      },
      "execution_count": 77,
      "outputs": []
    },
    {
      "cell_type": "code",
      "source": [
        "X_train.shape\n",
        "X_test.shape"
      ],
      "metadata": {
        "colab": {
          "base_uri": "https://localhost:8080/"
        },
        "id": "Ac-_6rOew3An",
        "outputId": "3574b05e-5db4-4cc1-91cc-603a6ea9d734"
      },
      "execution_count": 78,
      "outputs": [
        {
          "output_type": "execute_result",
          "data": {
            "text/plain": [
              "(10000, 28, 28)"
            ]
          },
          "metadata": {},
          "execution_count": 78
        }
      ]
    },
    {
      "cell_type": "code",
      "source": [
        "# reshape to be [samples][pixels][width][height]\n",
        "X_train = X_train.reshape(X_train.shape[0], 28, 28, 1).astype('float32')\n",
        "X_test = X_test.reshape(X_test.shape[0], 28, 28, 1).astype('float32')"
      ],
      "metadata": {
        "id": "9m9-sSuJxG99"
      },
      "execution_count": 79,
      "outputs": []
    },
    {
      "cell_type": "code",
      "source": [
        "X_train.shape"
      ],
      "metadata": {
        "colab": {
          "base_uri": "https://localhost:8080/"
        },
        "id": "NMEozA9hxybN",
        "outputId": "64c28efb-b546-4188-d25d-b35911b376ad"
      },
      "execution_count": 80,
      "outputs": [
        {
          "output_type": "execute_result",
          "data": {
            "text/plain": [
              "(60000, 28, 28, 1)"
            ]
          },
          "metadata": {},
          "execution_count": 80
        }
      ]
    },
    {
      "cell_type": "code",
      "source": [
        "X_test.shape"
      ],
      "metadata": {
        "colab": {
          "base_uri": "https://localhost:8080/"
        },
        "id": "w1M9Iflix2Bv",
        "outputId": "75c80d36-08b6-4548-db62-3302196c84de"
      },
      "execution_count": 81,
      "outputs": [
        {
          "output_type": "execute_result",
          "data": {
            "text/plain": [
              "(10000, 28, 28, 1)"
            ]
          },
          "metadata": {},
          "execution_count": 81
        }
      ]
    },
    {
      "cell_type": "markdown",
      "source": [
        "Next, let's convert the target variable into binary categories"
      ],
      "metadata": {
        "id": "RuH0R1j1yEJK"
      }
    },
    {
      "cell_type": "code",
      "source": [
        "y_train = to_categorical(y_train)\n",
        "y_test = to_categorical(y_test)"
      ],
      "metadata": {
        "id": "d33Jb-hxx5VZ"
      },
      "execution_count": 82,
      "outputs": []
    },
    {
      "cell_type": "code",
      "source": [
        "num_classes = y_test.shape[1]#number of categories"
      ],
      "metadata": {
        "id": "xpWZBwCCyG5k"
      },
      "execution_count": 83,
      "outputs": []
    },
    {
      "cell_type": "code",
      "source": [
        "num_classes"
      ],
      "metadata": {
        "colab": {
          "base_uri": "https://localhost:8080/"
        },
        "id": "9rKb6g1KyVg0",
        "outputId": "ed036fa3-0088-4fc2-e7cb-660be2a1290d"
      },
      "execution_count": 84,
      "outputs": [
        {
          "output_type": "execute_result",
          "data": {
            "text/plain": [
              "10"
            ]
          },
          "metadata": {},
          "execution_count": 84
        }
      ]
    },
    {
      "cell_type": "code",
      "source": [
        "# X_train"
      ],
      "metadata": {
        "id": "IKETndZ01OXZ"
      },
      "execution_count": 85,
      "outputs": []
    },
    {
      "cell_type": "code",
      "source": [
        "#NORMALIZE THE PIXEL VALUES\n",
        "X_train = X_train/255\n",
        "X_test =X_test/255"
      ],
      "metadata": {
        "id": "Y6UzROzZ0_ro"
      },
      "execution_count": 86,
      "outputs": []
    },
    {
      "cell_type": "code",
      "source": [
        "X = X_train\n",
        "y = y_train"
      ],
      "metadata": {
        "id": "UmwnDP4r36MX"
      },
      "execution_count": 87,
      "outputs": []
    },
    {
      "cell_type": "code",
      "source": [],
      "metadata": {
        "id": "OjbP28CD5CUC"
      },
      "execution_count": 87,
      "outputs": []
    },
    {
      "cell_type": "code",
      "source": [],
      "metadata": {
        "id": "SG6e3paa3I5l"
      },
      "execution_count": 87,
      "outputs": []
    },
    {
      "cell_type": "code",
      "source": [
        "from sklearn.model_selection import train_test_split\n",
        "from sklearn.model_selection import cross_val_score\n",
        "from sklearn.metrics import accuracy_score, classification_report, confusion_matrix"
      ],
      "metadata": {
        "id": "aXOu_vbq1cv9"
      },
      "execution_count": 88,
      "outputs": []
    },
    {
      "cell_type": "code",
      "source": [
        "def classification_model(model, X_test,y_test):\n",
        "  #X_train, X_test, y_train, y_test = train_test_split(X, y, test_size = 0.20,random_state=42)\n",
        "  model.fit(X_train,y_train)\n",
        "  y_pred = model.predict(X_test)\n",
        "  #accuracy metrics\n",
        "  score = accuracy_score(y_pred,y_test)\n",
        "  print(f\"Accuracy is {np.mean(score)*100}\")"
      ],
      "metadata": {
        "id": "VZAafaafyi19"
      },
      "execution_count": 89,
      "outputs": []
    },
    {
      "cell_type": "code",
      "source": [
        "#call the function and include a model\n",
        "# from sklearn.linear_model import LogisticRegression\n",
        "# model = LogisticRegression()\n",
        "# classification_model(model,X_test,y_test)\n"
      ],
      "metadata": {
        "id": "7pCz9KQ22vfx"
      },
      "execution_count": 90,
      "outputs": []
    },
    {
      "cell_type": "code",
      "source": [
        "#Generate a CNN with 2 sets of convolutional and poooling layers\n",
        "def convolutional_model():\n",
        "  model =Sequential()\n",
        "  model.add(Conv2D(16, kernel_size =(2,2),activation ='relu',input_shape=(28,28,1)))\n",
        "  model.add(MaxPooling2D(pool_size =(2,2), strides =(2,2)))\n",
        "  model.add(Conv2D(32, kernel_size=(2,2),activation = 'relu'))\n",
        "  model.add(MaxPooling2D(pool_size=(2,2),strides=(2,2)))\n",
        "\n",
        "  #flatten the model\n",
        "  model.add(Flatten())\n",
        "  #send the convoluted data to the fully connected layer\n",
        "  model.add(Dense(100, activation='relu'))\n",
        "  #output layer\n",
        "#use softmax if you want to convert the output into probabilities\n",
        "  #the layers for the output function should be equal to the number of categories in the target variable\n",
        "  model.add(Dense(num_classes, activation='softmax'))\n",
        "  model.compile(optimizer='adam', loss='categorical_crossentropy',metrics=['accuracy'])\n",
        "  return model"
      ],
      "metadata": {
        "id": "BPbPmP8N5J3N"
      },
      "execution_count": 93,
      "outputs": []
    },
    {
      "cell_type": "code",
      "source": [
        "#train the model\n",
        "model = convolutional_model()\n",
        "model.fit(X_train, y_train, validation_data=(X_test,y_test), epochs=10, verbose=2, batch_size=200)\n",
        "\n",
        "#evaluation metrics\n",
        "scores = model.evaluate(X_test,y_test, verbose=0)\n",
        "print(f\"Accuracy: {scores[1]} /n Error: {100-scores[1]*100}\")"
      ],
      "metadata": {
        "colab": {
          "base_uri": "https://localhost:8080/"
        },
        "id": "j4x5giX073Aj",
        "outputId": "9a7471a3-ca30-4aa7-85a0-eb7d6827b423"
      },
      "execution_count": 94,
      "outputs": [
        {
          "output_type": "stream",
          "name": "stdout",
          "text": [
            "Epoch 1/10\n",
            "300/300 - 17s - loss: 0.3813 - accuracy: 0.8928 - val_loss: 0.1096 - val_accuracy: 0.9689 - 17s/epoch - 58ms/step\n",
            "Epoch 2/10\n",
            "300/300 - 17s - loss: 0.0990 - accuracy: 0.9708 - val_loss: 0.0768 - val_accuracy: 0.9753 - 17s/epoch - 55ms/step\n",
            "Epoch 3/10\n",
            "300/300 - 18s - loss: 0.0720 - accuracy: 0.9781 - val_loss: 0.0625 - val_accuracy: 0.9794 - 18s/epoch - 60ms/step\n",
            "Epoch 4/10\n",
            "300/300 - 16s - loss: 0.0568 - accuracy: 0.9825 - val_loss: 0.0582 - val_accuracy: 0.9824 - 16s/epoch - 54ms/step\n",
            "Epoch 5/10\n",
            "300/300 - 16s - loss: 0.0467 - accuracy: 0.9859 - val_loss: 0.0489 - val_accuracy: 0.9839 - 16s/epoch - 54ms/step\n",
            "Epoch 6/10\n",
            "300/300 - 17s - loss: 0.0404 - accuracy: 0.9873 - val_loss: 0.0422 - val_accuracy: 0.9859 - 17s/epoch - 56ms/step\n",
            "Epoch 7/10\n",
            "300/300 - 17s - loss: 0.0362 - accuracy: 0.9887 - val_loss: 0.0489 - val_accuracy: 0.9845 - 17s/epoch - 56ms/step\n",
            "Epoch 8/10\n",
            "300/300 - 18s - loss: 0.0302 - accuracy: 0.9908 - val_loss: 0.0389 - val_accuracy: 0.9874 - 18s/epoch - 59ms/step\n",
            "Epoch 9/10\n",
            "300/300 - 16s - loss: 0.0270 - accuracy: 0.9920 - val_loss: 0.0394 - val_accuracy: 0.9868 - 16s/epoch - 54ms/step\n",
            "Epoch 10/10\n",
            "300/300 - 16s - loss: 0.0229 - accuracy: 0.9929 - val_loss: 0.0389 - val_accuracy: 0.9872 - 16s/epoch - 54ms/step\n",
            "Accuracy: 0.9872000217437744 /n Error: 1.2799978256225586\n"
          ]
        }
      ]
    },
    {
      "cell_type": "code",
      "source": [],
      "metadata": {
        "id": "hsiSqDI09FWL"
      },
      "execution_count": null,
      "outputs": []
    }
  ]
}